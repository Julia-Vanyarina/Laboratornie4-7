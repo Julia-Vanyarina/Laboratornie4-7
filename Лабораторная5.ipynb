{
  "nbformat": 4,
  "nbformat_minor": 0,
  "metadata": {
    "colab": {
      "name": "Лабораторная5",
      "provenance": [],
      "authorship_tag": "ABX9TyOAbuzfpYk9wikgP0YXHFid",
      "include_colab_link": true
    },
    "kernelspec": {
      "name": "python3",
      "display_name": "Python 3"
    },
    "language_info": {
      "name": "python"
    }
  },
  "cells": [
    {
      "cell_type": "markdown",
      "metadata": {
        "id": "view-in-github",
        "colab_type": "text"
      },
      "source": [
        "<a href=\"https://colab.research.google.com/github/Julia-Vanyarina/Laboratornie4-7/blob/main/%D0%9B%D0%B0%D0%B1%D0%BE%D1%80%D0%B0%D1%82%D0%BE%D1%80%D0%BD%D0%B0%D1%8F5.ipynb\" target=\"_parent\"><img src=\"https://colab.research.google.com/assets/colab-badge.svg\" alt=\"Open In Colab\"/></a>"
      ]
    },
    {
      "cell_type": "code",
      "execution_count": 1,
      "metadata": {
        "id": "A9p0UGauo3Cp",
        "outputId": "0d7cdab6-e235-4fd3-9509-875a4e539127",
        "colab": {
          "base_uri": "https://localhost:8080/"
        }
      },
      "outputs": [
        {
          "output_type": "stream",
          "name": "stdout",
          "text": [
            "Введите x: 3\n",
            "Введите y: 9\n",
            "Ответ: -112.01\n"
          ]
        }
      ],
      "source": [
        "#task521\n",
        "def sgn(x):\n",
        "    \"\"\"Вернуть результат сигнум-функции.\n",
        "\n",
        "    Параметры:\n",
        "        - x (float): аргумент x.\n",
        "\n",
        "    Результат:\n",
        "        float: значение функции.\n",
        "    \"\"\"\n",
        "    if x > 0:\n",
        "        return 1\n",
        "    elif x == 0:\n",
        "        return 0\n",
        "    else: \n",
        "        return -1\n",
        "\n",
        "x = float(input('Введите x: '))\n",
        "y = float(input('Введите y: '))\n",
        "\n",
        "\n",
        "z = round((sgn(x) + y**2) / (sgn(y) - abs(x)**0.5),2)\n",
        "\n",
        "print(\"Ответ:\", z)"
      ]
    },
    {
      "cell_type": "code",
      "source": [
        "#task522\n",
        "def avg(data):\n",
        "    \"\"\"Вернуть среднее значение 'data'.\n",
        "\n",
        "    Параметры:\n",
        "        data(list): список температурных изменений без None\n",
        "\n",
        "    Результат:\n",
        "        float: среднее значение\n",
        "    \"\"\"\n",
        "    return sum(data) / len(data)\n",
        "   \n",
        "\n",
        "\n",
        "def cleared_data(data):\n",
        "    \"\"\"Вернуть список без значений None.\n",
        "\n",
        "    Параметры:\n",
        "        data(list): список температурных изменений \n",
        "\n",
        "    Результат:\n",
        "        list: список температурных изменений без None\n",
        "    \"\"\"\n",
        "    for i in data:\n",
        "       if i is None: \n",
        "          data.remove(i)\n",
        "    return data       \n",
        "\n",
        "\n",
        "n = int(input('Кол-во измерений: '))\n",
        "\n",
        "# Если с клавиатуры вводится прочерк, измерения нет\n",
        "# (необходимо добавить в список None)\n",
        "rawData = list()\n",
        "for i in range(n):\n",
        "    d = input('Измерение {}-е: '.format(i+1))\n",
        "    rawData.append(None if d == '-' else float(d))   \n",
        "\n",
        "\n",
        "\n",
        "# Получить очищенный список и среднее значение\n",
        "clearedData = cleared_data(rawData)\n",
        "print('Средняя температура: {0:.2f}'.format(avg(clearedData)))"
      ],
      "metadata": {
        "colab": {
          "base_uri": "https://localhost:8080/"
        },
        "id": "5H6VbvygYtNd",
        "outputId": "9226a017-b518-4663-c3f3-1590d5a9fa01"
      },
      "execution_count": 2,
      "outputs": [
        {
          "output_type": "stream",
          "name": "stdout",
          "text": [
            "Кол-во измерений: 4\n",
            "Измерение 1-е: 256\n",
            "Измерение 2-е: 432\n",
            "Измерение 3-е: 8\n",
            "Измерение 4-е: 999\n",
            "Средняя температура: 423.75\n"
          ]
        }
      ]
    },
    {
      "cell_type": "code",
      "source": [
        "#task523\n",
        "def is_lucky(num):\n",
        "    \"\"\"Является ли 'num' номером счастливого билета?\n",
        "\n",
        "    Параметры:\n",
        "        num(int): номер билета\n",
        "\n",
        "    Результат:\n",
        "        bool: True - да, False - нет.\n",
        "    \"\"\"\n",
        "    num_even_count = 0\n",
        "    num_odd_count = 0\n",
        "\n",
        "    while num != 0:\n",
        "        if num % 2 == 0:\n",
        "           num_even_count += 1\n",
        "        else:\n",
        "           num_odd_count += 1  \n",
        "        num = num // 10\n",
        "\n",
        "    return True if num_even_count == num_odd_count else False  \n",
        "\n",
        "def lucky_numbers(a, b):\n",
        "    \"\"\"Вернуть список счастливых номеров от 'a' до 'b'.\n",
        "\n",
        "    Параметры:\n",
        "        a(int): начало диапазона\n",
        "        b(int): конец диапазона\n",
        "\n",
        "    Результат:\n",
        "        list: список счастливых номеров\n",
        "    \"\"\"\n",
        "    num = list()\n",
        "    for i in range(a, b + 1):\n",
        "        if is_lucky(i):\n",
        "           num.append(i) \n",
        "    return num  \n",
        "\n",
        "\n",
        "a = int(input('Первый номер билета: '))\n",
        "b = int(input('Последний номер билета: '))\n",
        "\n",
        "# Вывод должен быть осуществлен в строку с одним пробелом-разделителем\n",
        "num = lucky_numbers(a, b)\n",
        "for i in num:\n",
        "    print(i, end = ' ')"
      ],
      "metadata": {
        "colab": {
          "base_uri": "https://localhost:8080/"
        },
        "id": "RocXYhIYZUwb",
        "outputId": "b0d063e1-eeda-4eb4-ddf9-53e47507389c"
      },
      "execution_count": 3,
      "outputs": [
        {
          "output_type": "stream",
          "name": "stdout",
          "text": [
            "Первый номер билета: 1\n",
            "Последний номер билета: 67\n",
            "10 12 14 16 18 21 23 25 27 29 30 32 34 36 38 41 43 45 47 49 50 52 54 56 58 61 63 65 67 "
          ]
        }
      ]
    },
    {
      "cell_type": "code",
      "source": [
        "#task524\n",
        "def is_leap(year):\n",
        "    \"\"\"Является ли 'year' високосным годом?\n",
        "\n",
        "    Параметры:\n",
        "        year(int): год\n",
        "\n",
        "    Результат:\n",
        "        bool: True - да, False - нет.\n",
        "    \"\"\"\n",
        "    if year % 400 == 0:\n",
        "        return True\n",
        "    elif year % 100 == 0:\n",
        "        return False   \n",
        "    elif year % 4 == 0:\n",
        "        return True\n",
        "\n",
        "\n",
        "def days(month, year):\n",
        "    \"\"\"Вернуть количество дней в месяце 'month' года 'year'.\n",
        "\n",
        "    Параметры:\n",
        "        month(int): номер месяца\n",
        "        year(int): год\n",
        "\n",
        "    Результат:\n",
        "        int: количество дней \n",
        "    \"\"\"\n",
        "    if month in (1,3,5,7,8,10,12):\n",
        "        return 31\n",
        "    elif month == 2:\n",
        "        if is_leap(year):\n",
        "            return 29\n",
        "        else:\n",
        "            return 28    \n",
        "    else: \n",
        "        return 30\n",
        "\n",
        "\n",
        "def previous_date(day, month, year):\n",
        "    \"\"\"Вернуть день, месяц, год предыдущего дня.\n",
        "\n",
        "    Параметры:\n",
        "        day(int): день \n",
        "        month(int): месяц\n",
        "        year(int): год\n",
        "\n",
        "    Результат:\n",
        "        int: день, месяц, год предыдущего дня.\n",
        "    \"\"\"\n",
        "    if month == 1:\n",
        "        month = 12\n",
        "        year -= 1\n",
        "    else:     \n",
        "        month -= 1 \n",
        "    if day == 1:\n",
        "         day =  days(month, year)\n",
        "    else:\n",
        "         day -= 1    \n",
        "\n",
        "    return day, month, year\n",
        "\n",
        "\n",
        "def next_date(day, month, year):\n",
        "    \"\"\"Вернуть день, месяц, год следующего дня.\n",
        "\n",
        "    Параметры:\n",
        "        day(int): день \n",
        "        month(int): месяц\n",
        "        year(int): год\n",
        "\n",
        "    Результат:\n",
        "        int: день, месяц, год следующего дня\n",
        "    \"\"\"\n",
        "    if day == days(month, year):\n",
        "        day = 1\n",
        "        if month == 12:\n",
        "            month = 1\n",
        "            year += 1\n",
        "        else:     \n",
        "            month += 1 \n",
        "    else:\n",
        "        day += 1   \n",
        "\n",
        "    return day, month, year      \n",
        "\n",
        "\n",
        "date = input('День, месяц, год через пробел: ').split(sep=' ')\n",
        "day = int(date[0]) \n",
        "month = int(date[1])\n",
        "year = int(date[2])\n",
        "\n",
        "pday, pmonth, pyear = previous_date(day, month, year)\n",
        "print('Предыдущий день: {:0>2}/{:0>2}/{:0>4}'.format(pday, pmonth, pyear))\n",
        "\n",
        "nday, nmonth, nyear = next_date(day, month, year)\n",
        "print('Следующий день: {:0>2}/{:0>2}/{:0>4}'.format(nday, nmonth, nyear))"
      ],
      "metadata": {
        "colab": {
          "base_uri": "https://localhost:8080/"
        },
        "id": "mGJi7WfOZhXr",
        "outputId": "82569ca4-fab0-4234-dbc6-6d686457a7a7"
      },
      "execution_count": 5,
      "outputs": [
        {
          "output_type": "stream",
          "name": "stdout",
          "text": [
            "День, месяц, год через пробел: 1 02 1997\n",
            "Предыдущий день: 31/01/1997\n",
            "Следующий день: 02/02/1997\n"
          ]
        }
      ]
    },
    {
      "cell_type": "code",
      "source": [
        "def is_leap(year):\n",
        "    \"\"\"Является ли 'year' високосным годом?\n",
        "\n",
        "    Параметры:\n",
        "         year(int): год\n",
        "\n",
        "    Результат:\n",
        "        bool: True - да, False - нет.\n",
        "    \"\"\"\n",
        "    if year % 400 == 0:\n",
        "        return True\n",
        "    elif year % 100 == 0:\n",
        "        return False   \n",
        "    elif year % 4 == 0:\n",
        "        return True\n",
        "\n",
        "\n",
        "def days(month, year):\n",
        "    \"\"\"Вернуть количество дней в месяце 'month' года 'year'.\n",
        "\n",
        "    Параметры:\n",
        "        month(int): номер месяца\n",
        "        year(int): год\n",
        "\n",
        "    Результат:\n",
        "        int: количество дней\n",
        "    \"\"\"\n",
        "    if month in (1,3,5,7,8,10,12):\n",
        "        return 31\n",
        "    elif month == 2:\n",
        "        if is_leap(year):\n",
        "            return 29\n",
        "        else:\n",
        "            return 28    \n",
        "    else: \n",
        "        return 30\n",
        "\n",
        "\n",
        "def another_date(day, month, year, delta=1):\n",
        "    \"\"\"Вернуть день, месяц, год, отличающийся на 'delta' дней.\n",
        "\n",
        "    Параметры:\n",
        "        day(int): день\n",
        "        month(int): номер месяца\n",
        "        year(int): год\n",
        "\n",
        "    Результат:\n",
        "        int: день, месяц, год \n",
        "    \"\"\"\n",
        "    \n",
        "    def previous_date(day, month, year):\n",
        "        \"\"\"Вернуть день, месяц, год предыдущего дня.\n",
        "\n",
        "        Параметры:\n",
        "            day(int): день\n",
        "            month(int): номер месяца\n",
        "            year(int): год\n",
        "\n",
        "        Результат:\n",
        "            int: день, месяц, год предыдущего дня.\n",
        "        \"\"\"\n",
        "        \n",
        "        if day == 1:\n",
        "            if month == 1:\n",
        "                month = 12\n",
        "                year -= 1\n",
        "            else:     \n",
        "                month -= 1 \n",
        "            day =  days(month, year)    \n",
        "        else:\n",
        "            day -= 1    \n",
        "\n",
        "        return day, month, year\n",
        "\n",
        "        \n",
        "\n",
        "\n",
        "    def next_date(day, month, year):\n",
        "        \"\"\"Вернуть день, месяц, год следующего дня.\n",
        "\n",
        "        Параметры:\n",
        "            day(int): день\n",
        "            month(int): номер месяца\n",
        "            year(int): год\n",
        "\n",
        "\n",
        "        Результат:\n",
        "            int: день, месяц, год следующего дня\n",
        "        \"\"\"\n",
        "        if day == days(month, year):\n",
        "            day = 1\n",
        "            if month == 12:\n",
        "                month = 1\n",
        "                year += 1\n",
        "            else:     \n",
        "                month += 1 \n",
        "        else:\n",
        "            day += 1   \n",
        "\n",
        "        return day, month, year  \n",
        "\n",
        "\n",
        "    if delta > 0:\n",
        "        for i in range(delta):\n",
        "           day, month, year = next_date(day, month, year)\n",
        "    else:\n",
        "        for i in range(0, delta, -1):\n",
        "           day, month, year = previous_date(day, month, year)   \n",
        "    return day, month, year       \n",
        "\n",
        "    \n",
        "date = input('День, месяц, год через пробел: ').split(sep=' ')\n",
        "day = int(date[0]) \n",
        "month = int(date[1])\n",
        "year = int(date[2])\n",
        "\n",
        "delta = int(input('Свдиг (может быть отрицательным): '))\n",
        "day, month, year = another_date(day, month, year, delta)\n",
        "print('Новый день: {:0>2}/{:0>2}/{:0>4}'.format(day, month, year))"
      ],
      "metadata": {
        "colab": {
          "base_uri": "https://localhost:8080/"
        },
        "id": "KfoveY1Ga_N4",
        "outputId": "99496bfb-60cc-4f86-a1b4-b9f37e806c7c"
      },
      "execution_count": 6,
      "outputs": [
        {
          "output_type": "stream",
          "name": "stdout",
          "text": [
            "День, месяц, год через пробел: 1 09 2015\n",
            "Свдиг (может быть отрицательным): 235\n",
            "Новый день: 23/04/2016\n"
          ]
        }
      ]
    },
    {
      "cell_type": "code",
      "source": [
        "#task526\n",
        "def gcd(first, second):\n",
        "    \"\"\"Вернуть НОД целых чисел 'first' и 'second'.\"\"\"\n",
        "    while first != 0 and second != 0:\n",
        "        if first > second:\n",
        "            first = first % second\n",
        "        else:  \n",
        "            second = second % first\n",
        "    return first + second          \n",
        "\n",
        "\n",
        "def lcm(first, second):\n",
        "    \"\"\"Вернуть НОК целых чисел 'first' и 'second'.\"\"\"\n",
        "    if gcd(first, second) != 0:\n",
        "        return (abs(first * second))/gcd(first, second)\n",
        "    else:\n",
        "        return 0\n",
        "  \n",
        "\n",
        "def gcd_nums(nums):\n",
        "    \"\"\"Вернуть НОД чисел из списка 'nums'.\n",
        "\n",
        "    Параметры:\n",
        "        nums(list): список чисел\n",
        "\n",
        "    Результат:\n",
        "        int: НОД чисел из списка 'nums'\n",
        "    \"\"\"\n",
        "    result = nums[0]\n",
        "    for i in range(1, len(nums)):\n",
        "        result = gcd(result, nums[i])\n",
        "    return result\n",
        "    \n",
        "def lcm_nums(nums):\n",
        "    \"\"\"Вернуть НОК чисел из списка 'nums'.\n",
        "\n",
        "    Параметры:\n",
        "        nums(list): список чисел\n",
        "\n",
        "    Результат:\n",
        "        int: НОК чисел из списка 'nums'\n",
        "    \"\"\"\n",
        "    result = nums[0]\n",
        "    for i in range(1, len(nums)):\n",
        "        result = lcm(result, nums[i]) \n",
        "    return result\n",
        "\n",
        "nums = [int(i) for i in input('Введите числа через пробел: ').split(sep=' ')]\n",
        "\n",
        "\n",
        "nod = gcd_nums(nums)\n",
        "nok = lcm_nums(nums)\n",
        "\n",
        "print('НОД = ', nod)\n",
        "print('НОК = ', nok)"
      ],
      "metadata": {
        "colab": {
          "base_uri": "https://localhost:8080/"
        },
        "id": "0dCBiIWHbeCa",
        "outputId": "4e9b41c1-9ccb-4857-a98a-5c291ee310ed"
      },
      "execution_count": 10,
      "outputs": [
        {
          "output_type": "stream",
          "name": "stdout",
          "text": [
            "Введите числа через пробел: 2 3 6\n",
            "НОД =  1\n",
            "НОК =  6.0\n"
          ]
        }
      ]
    },
    {
      "cell_type": "code",
      "source": [
        "#task527\n",
        "\n",
        "def has_digits(sentence):\n",
        "    \"\"\"`Определить, есть ли в предложении цифры.\n",
        "\n",
        "    Параметры:\n",
        "        sentence(str): предложение\n",
        "\n",
        "    Результат:\n",
        "        bool: True - да, False - нет.\n",
        "        '\"\"\"\n",
        "    for i in sentence: \n",
        "        if i in ['1', '2', '3', '4', '5', '6', '7', '8', '9']:\n",
        "            return True\n",
        "        \n",
        "    return False    \n",
        "            \n",
        "\n",
        "\n",
        "def sentences_with_digits_count(sentences):\n",
        "    \"\"\"Определить, сколько предложений содержат хотя бы одну цифру.\n",
        "\n",
        "    Параметры:\n",
        "        sentences(str): предложения содержащие хотя бы одну цифру\n",
        "\n",
        "    Результат:\n",
        "        int: количество предложений.\n",
        "    \"\"\"\n",
        "    count = 0\n",
        "    for i in sentences:\n",
        "        if has_digits(i):\n",
        "            count += 1 \n",
        "    return count\n",
        "\n",
        "\n",
        "n = int(input('Введите количество предложений: '))\n",
        "\n",
        "sentences = list()\n",
        "for i in range(0, n):\n",
        "    sentence = input('Введите предложение № {}: '.format(i+1))\n",
        "    sentences.append(sentence)\n",
        "t = sentences_with_digits_count(sentences)\n",
        "print('Предложений с цифрой = ', t)"
      ],
      "metadata": {
        "colab": {
          "base_uri": "https://localhost:8080/"
        },
        "id": "2-7R7iScdCEq",
        "outputId": "0dd3383f-6c4e-441b-f18f-b3878cffe615"
      },
      "execution_count": 13,
      "outputs": [
        {
          "output_type": "stream",
          "name": "stdout",
          "text": [
            "Введите количество предложений: 3\n",
            "Введите предложение № 1: Доброе утро\n",
            "Введите предложение № 2: Сегодня на улице 32 градуса\n",
            "Введите предложение № 3: 234\n",
            "Предложений с цифрой =  2\n"
          ]
        }
      ]
    },
    {
      "cell_type": "code",
      "source": [
        "#task528\n",
        "def print_with_border(string, char):\n",
        "    \"\"\"Реализуйте функцию, рисующую рамку из символа k вокруг данной строки.\n",
        "    \n",
        "    Параметры:\n",
        "        string(str): текст, который необходимо поместить в рамку.\n",
        "        char(str): символ\n",
        "\n",
        "    Результат:\n",
        "        текст в рамке\n",
        "    \"\"\"\n",
        "    a = len(string) + 2\n",
        "    print(char * a)\n",
        "    print(char, string, char, sep = '')\n",
        "    print(char * a)\n",
        "\n",
        "\n",
        "\n",
        "s = input('Введите строку: ')\n",
        "k = input('Введите символ: ')\n",
        "\n",
        "print_with_border(s, k)"
      ],
      "metadata": {
        "colab": {
          "base_uri": "https://localhost:8080/"
        },
        "id": "8-kO6q9NemUi",
        "outputId": "dc255717-4bf2-4b4e-a23d-44ef57ab22d1"
      },
      "execution_count": 16,
      "outputs": [
        {
          "output_type": "stream",
          "name": "stdout",
          "text": [
            "Введите строку: Доброе утро\n",
            "Введите символ: #\n",
            "#############\n",
            "#Доброе утро#\n",
            "#############\n"
          ]
        }
      ]
    },
    {
      "cell_type": "code",
      "source": [
        "LETTERS_EX = {10: \"A\", 11: \"B\", 12: \"C\", 13: \"D\", 14: \"E\", 15: \"F\"}\n",
        "DIGITS_EX = {\"A\": 10, \"B\": 11, \"C\": 12, \"D\": 13, \"E\": 14, \"F\": 15}\n",
        "\n",
        "\n",
        "def to_base(number, base):\n",
        "    \"\"\"Преобразовать десятичное число 'number' в с.с. 'base'.\n",
        "\n",
        "    Параметры:\n",
        "        number (int): десятичное число;\n",
        "        base (int): система счисления.\n",
        "\n",
        "    Результат:\n",
        "        str: число в с.с. 'base'.\"\"\"\n",
        "    result = ''\n",
        "    while number >= base:\n",
        "        ost = number % base\n",
        "        if ost > 10:\n",
        "            result = LETTERS_EX[ost] + result\n",
        "        else:\n",
        "            result = str(ost) + result\n",
        "        number = number // base\n",
        "    if number > 10:\n",
        "        result = LETTERS_EX[number] + result\n",
        "    else:\n",
        "        result = str(number) + result\n",
        "    return result\n",
        "\n",
        "\n",
        "def from_base(number, base):\n",
        "    \"\"\"Преобразовать  число 'number' из с.с. 'base' в десятичную.\n",
        "\n",
        "    Параметры:\n",
        "        number (str): число в с.с. 'base'\n",
        "        base (int): начальная система счисления.\n",
        "\n",
        "    Результат:\n",
        "        int: число в 10-й с.с.\"\"\"\n",
        "    count = 0\n",
        "    result = 0\n",
        "    for letter in reversed(number):\n",
        "        if letter in DIGITS_EX.keys():\n",
        "            i = DIGITS_EX[letter]\n",
        "        else: \n",
        "            i = int(letter)    \n",
        "        result += i * (base ** count)\n",
        "        count += 1\n",
        "\n",
        "    return result\n",
        "\n",
        "print('Перевод десятичного числа 689 в шестнадцатиричную с.с. ', to_base(689, 16))\n",
        "print('Перевод числа 2B1 из шестнадцатиричной с.с. в десятичную ', from_base('2B1', 16))"
      ],
      "metadata": {
        "colab": {
          "base_uri": "https://localhost:8080/"
        },
        "id": "7YVZkPFNeyEh",
        "outputId": "aeefd52d-6a6f-41ce-f5e2-cc33475ad273"
      },
      "execution_count": 15,
      "outputs": [
        {
          "output_type": "stream",
          "name": "stdout",
          "text": [
            "Перевод десятичного числа 689 в шестнадцатиричную с.с.  2B1\n",
            "Перевод числа 2B1 из шестнадцатиричной с.с. в десятичную  689\n"
          ]
        }
      ]
    },
    {
      "cell_type": "code",
      "source": [
        "#task5210\n",
        "def sentence_stats(sentence):\n",
        "    \"\"\"Вернуть символьную статистику 'sentence'. Регистр не учитывается.\n",
        "\n",
        "    Параметры:\n",
        "        sentence(str): предложение\n",
        "\n",
        "    Результат:\n",
        "        dict: символьная статистика предложения.\n",
        "    \"\"\"\n",
        "    d = dict()\n",
        "    sentence = sentence.lower()\n",
        "    for i in sentence:\n",
        "        d[i] = d.get(i, 0) + 1\n",
        "    return d\n",
        "\n",
        "s = input('Введите предложение: ')\n",
        "print(sentence_stats(s))"
      ],
      "metadata": {
        "colab": {
          "base_uri": "https://localhost:8080/"
        },
        "id": "cAuvzcKFfbsW",
        "outputId": "4c898c9d-4ac1-4597-d377-2ba031eddcf6"
      },
      "execution_count": 17,
      "outputs": [
        {
          "output_type": "stream",
          "name": "stdout",
          "text": [
            "Введите предложение: Выпал снег\n",
            "{'в': 1, 'ы': 1, 'п': 1, 'а': 1, 'л': 1, ' ': 1, 'с': 1, 'н': 1, 'е': 1, 'г': 1}\n"
          ]
        }
      ]
    }
  ]
}