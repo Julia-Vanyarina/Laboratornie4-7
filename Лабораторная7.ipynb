{
  "nbformat": 4,
  "nbformat_minor": 0,
  "metadata": {
    "colab": {
      "name": "Лабораторная7",
      "provenance": [],
      "authorship_tag": "ABX9TyOMMzzBd6f+ttYAaKQe3+vE",
      "include_colab_link": true
    },
    "kernelspec": {
      "name": "python3",
      "display_name": "Python 3"
    },
    "language_info": {
      "name": "python"
    }
  },
  "cells": [
    {
      "cell_type": "markdown",
      "metadata": {
        "id": "view-in-github",
        "colab_type": "text"
      },
      "source": [
        "<a href=\"https://colab.research.google.com/github/Julia-Vanyarina/Laboratornie4-7/blob/main/%D0%9B%D0%B0%D0%B1%D0%BE%D1%80%D0%B0%D1%82%D0%BE%D1%80%D0%BD%D0%B0%D1%8F7.ipynb\" target=\"_parent\"><img src=\"https://colab.research.google.com/assets/colab-badge.svg\" alt=\"Open In Colab\"/></a>"
      ]
    },
    {
      "cell_type": "code",
      "execution_count": 13,
      "metadata": {
        "colab": {
          "base_uri": "https://localhost:8080/"
        },
        "id": "NNogVunRtsQw",
        "outputId": "f2ecd249-ce5c-42aa-87ed-d1f11c9e878c"
      },
      "outputs": [
        {
          "output_type": "execute_result",
          "data": {
            "text/plain": [
              "3"
            ]
          },
          "metadata": {},
          "execution_count": 13
        }
      ],
      "source": [
        "#task721\n",
        "\"\"\"\n",
        "Ошибки (номера строк через пробел, данная строка - №2): 15\n",
        "\"\"\"\n",
        "\n",
        "\n",
        "def sum_of_digits(n):\n",
        "    \"\"\"Вернуть сумму цифр меньших 5 для положительного целого числа `n`.\n",
        "    Если таких цифр нет, вернуть 0.\"\"\"\n",
        "    c=0\n",
        "    while n > 0:\n",
        "        digit = n % 10\n",
        "        if digit < 5:\n",
        "           c += digit\n",
        "        n //= 10\n",
        "    return c # не тот уровень был и выводилась не сумма, а число\n",
        "\n",
        "sum_of_digits(38)"
      ]
    },
    {
      "cell_type": "code",
      "source": [
        "#task722\n",
        "\"\"\"\n",
        "Ошибки (номера строк через пробел, данная строка - №2): 13\n",
        "\"\"\"\n",
        "\n",
        "\n",
        "def primes(a, b):\n",
        "    \"\"\"Вернуть список простых чисел на отрезке от 'a' до 'b'.\"\"\"\n",
        "    res = []\n",
        "    c = 0\n",
        "    for i in range(a, b+1):\n",
        "        for j in range(i+1):\n",
        "            if i %(j+1)  == 0:\n",
        "                c += 1\n",
        "            \n",
        "        if c == 2: #был неверный уровень, из-за которого в список попадали элементы, имеющие хотя бы 2 делителя\n",
        "               res.append(i)\n",
        "               c=0\n",
        "        else:\n",
        "          c=0  \n",
        "\n",
        "    return res\n",
        "primes(213,225)"
      ],
      "metadata": {
        "colab": {
          "base_uri": "https://localhost:8080/"
        },
        "id": "ZSPTunAku4OM",
        "outputId": "9d501572-13b5-4291-a758-31b2d264986b"
      },
      "execution_count": 3,
      "outputs": [
        {
          "output_type": "execute_result",
          "data": {
            "text/plain": [
              "[223]"
            ]
          },
          "metadata": {},
          "execution_count": 3
        }
      ]
    },
    {
      "cell_type": "code",
      "source": [
        "#task723\n",
        "\"\"\"\n",
        "Ошибки (номера строк через пробел, данная строка - №2): 27\n",
        "\"\"\"\n",
        "\n",
        "\n",
        "def first_vacant_row(seats):\n",
        "    max_count = 0\n",
        "    max_row = 0\n",
        "    for row_index, row in enumerate(seats):\n",
        "        available_seats_count = row.count(0)  # 0 - пусто \n",
        "        if available_seats_count > max_count:\n",
        "            max_row = row_index +1\n",
        "            max_count = available_seats_count\n",
        "        else:# не хватало else и цикл из-за этого писал последний ряд , теперь мы прописали, что если количество свободных\n",
        "                                                                               # мест меньше или равно, то ряд пропускается\n",
        "          pass\n",
        "    return max_row, max_count\n",
        "\n",
        "import random\n",
        "\n",
        "random.seed(50)\n",
        "\n",
        "ROWS_MAX = 10\n",
        "SEATS_MAX = 5\n",
        "\n",
        "seats = [[random.randint(0, 1) for seat in range(SEATS_MAX)]\n",
        "                                for row in range(ROWS_MAX)]\n",
        "\n",
        "for seat in seats:\n",
        "   print(seat)\n",
        "print(first_vacant_row(seats))"
      ],
      "metadata": {
        "colab": {
          "base_uri": "https://localhost:8080/"
        },
        "id": "tZKLaNKvwhwU",
        "outputId": "835347af-17b2-400c-c333-b19cd013a28b"
      },
      "execution_count": 5,
      "outputs": [
        {
          "output_type": "stream",
          "name": "stdout",
          "text": [
            "[1, 1, 1, 0, 1]\n",
            "[1, 0, 1, 0, 0]\n",
            "[0, 1, 0, 1, 1]\n",
            "[0, 0, 0, 1, 1]\n",
            "[0, 0, 1, 1, 0]\n",
            "[0, 1, 1, 1, 0]\n",
            "[0, 1, 1, 1, 0]\n",
            "[1, 0, 0, 1, 0]\n",
            "[1, 1, 0, 1, 1]\n",
            "[0, 1, 0, 0, 1]\n",
            "(2, 3)\n"
          ]
        }
      ]
    },
    {
      "cell_type": "code",
      "source": [
        "#task724\n",
        "\"\"\"\n",
        "Ошибки (номера строк через пробел, данная строка - №2): 10 11\n",
        "\"\"\"\n",
        "\n",
        "\n",
        "def min_pair(nums):\n",
        "    \"\"\"Вернуть минимальную сумму соседних 2-х чисел в списке 'nums'.\"\"\"\n",
        "    mun = nums[0] + nums[1]\n",
        "    b=len(nums)\n",
        "    for i in range(2, b-1): #i+1 выходило за пределы списка, поэтому указала длину -1\n",
        "        mun = min(nums[i] + nums[i+1], mun)#было несколько переменных обозначенных min, переименовала\n",
        "    return mun\n",
        "import random\n",
        "\n",
        "random.seed(50)\n",
        "\n",
        "N_MAX = 10\n",
        "RANGE_MIN = 1\n",
        "RANGE_MAX = 100\n",
        "nums = random.sample(range(RANGE_MIN, RANGE_MAX), N_MAX)\n",
        "print(nums)\n",
        "print(min_pair(nums))"
      ],
      "metadata": {
        "id": "cAocdPMExD7z"
      },
      "execution_count": null,
      "outputs": []
    },
    {
      "cell_type": "code",
      "source": [
        "#task725\n",
        "\"\"\"\n",
        "Ошибки (номера строк через пробел, данная строка - №2): 11 12 13\n",
        "\"\"\"\n",
        "\n",
        "\n",
        "def non_negatives(nums):\n",
        "    d=0 # количество чисел\n",
        "    \"\"\"Удалить из списка чисел 'nums' отрицательные элементы и вернуть\n",
        "    измененный список.\"\"\"\n",
        "    for i in range(len(nums)): # для указанного количества чисел в списке\n",
        "        if nums[i-d] < 0: # если число меньше 0\n",
        "            del nums[i-d]\n",
        "            d +=1 # переход к следующему числу\n",
        "    return nums # вернуть измененный список\n",
        "\n",
        "import random \n",
        "\n",
        "n = 20\n",
        "nums = [round(random.uniform(-10, 10), 2) for i in range(n)] # рандомные числа\n",
        "print(nums)\n",
        "\n",
        "non_negatives(nums)\n",
        "print(nums)"
      ],
      "metadata": {
        "colab": {
          "base_uri": "https://localhost:8080/"
        },
        "id": "n7w25X9bxTbz",
        "outputId": "a9586e5b-5853-46ad-993b-7033a2c64860"
      },
      "execution_count": 9,
      "outputs": [
        {
          "output_type": "stream",
          "name": "stdout",
          "text": [
            "[-0.7, -1.63, 6.42, -0.6, -1.94, -2.75, 5.5, -9.62, -1.13, 2.79, -9.82, -3.66, -3.06, 2.9, 0.39, -0.04, -3.97, -1.4, 8.53, -7.75]\n",
            "[6.42, 5.5, 2.79, 2.9, 0.39, 8.53]\n"
          ]
        }
      ]
    },
    {
      "cell_type": "code",
      "source": [
        "#task726\n",
        "\"\"\"\n",
        "Ошибки (номера строк через пробел, данная строка - №2): 11 14 15\n",
        "\"\"\"\n",
        "\n",
        "\n",
        "def unemployment_rate(unemployed, employed):\n",
        "    \"\"\"Вернуть уровень безработицы (УБ) в долях 1.\n",
        "\n",
        "       Расчет по формуле: УБ = Безработные / (Занятые + Безработные).\n",
        "    \"\"\"\n",
        "    if unemployed > 0 and employed>0:\n",
        "      return unemployed / (unemployed + employed)\n",
        "    else:\n",
        "      raise ValueError('невозможно вычислить уровень безработицы. введите положительные числа')\n",
        "\n",
        "try:\n",
        "  unemployed = int(input(\"Введите кол-во безработных (чел.): \"))#есть возможность вводить отрицательные значения\n",
        "  employed = int(input(\"Введите кол-во занятых (чел.): \"))#есть возможность вводить отрицательные значения\n",
        "  rate = unemployment_rate(unemployed, employed)\n",
        "  print(\"Уровень безработицы = {:.1%}\".format(rate))\n",
        "except ValueError as err:\n",
        "    print(\"Ошибка:\", err)\n",
        "except Exception as err:\n",
        "    print(\"Ошибка:\", err)"
      ],
      "metadata": {
        "colab": {
          "base_uri": "https://localhost:8080/"
        },
        "id": "JOBhx56oyG4y",
        "outputId": "bbe5bb95-0f62-4458-deb0-96bb072e42ec"
      },
      "execution_count": 10,
      "outputs": [
        {
          "output_type": "stream",
          "name": "stdout",
          "text": [
            "Введите кол-во безработных (чел.): 12\n",
            "Введите кол-во занятых (чел.): 32\n",
            "Уровень безработицы = 27.3%\n"
          ]
        }
      ]
    },
    {
      "cell_type": "code",
      "source": [
        "#task727\n",
        "\"\"\"\n",
        "Ошибки (номера строк через пробел, данная строка - №2): 9 10\n",
        "\"\"\"\n",
        "\n",
        "\n",
        "def power(x, y=2):\n",
        "    \"\"\"Вернуть x^y.\"\"\"\n",
        "    if y == 0:\n",
        "        return 1\n",
        "    else:\n",
        "        return x * power(x, y - 1)\n",
        "\n",
        "try:\n",
        "  x = int(input(\"x=\"))\n",
        "  y = int(input(\"y=\"))\n",
        "  print(power(x, y))\n",
        "except Exception as err:\n",
        "    print(\"Произошла ошибка!\")\n",
        "    print(\"Тип:\", type(err))\n",
        "    print(\"Описание:\", err)"
      ],
      "metadata": {
        "colab": {
          "base_uri": "https://localhost:8080/"
        },
        "id": "3tTT-fQeys_u",
        "outputId": "d9f478a7-496a-452f-f82d-814c873359a2"
      },
      "execution_count": 12,
      "outputs": [
        {
          "output_type": "stream",
          "name": "stdout",
          "text": [
            "x=Hello\n",
            "Произошла ошибка!\n",
            "Тип: <class 'ValueError'>\n",
            "Описание: invalid literal for int() with base 10: 'Hello'\n"
          ]
        }
      ]
    }
  ]
}