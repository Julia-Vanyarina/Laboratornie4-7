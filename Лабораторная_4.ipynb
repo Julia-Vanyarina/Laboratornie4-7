{
  "nbformat": 4,
  "nbformat_minor": 0,
  "metadata": {
    "colab": {
      "name": "Лабораторная 4",
      "provenance": [],
      "authorship_tag": "ABX9TyPfeMMnt9vA0YdhWIuKlHQS",
      "include_colab_link": true
    },
    "kernelspec": {
      "name": "python3",
      "display_name": "Python 3"
    },
    "language_info": {
      "name": "python"
    }
  },
  "cells": [
    {
      "cell_type": "markdown",
      "metadata": {
        "id": "view-in-github",
        "colab_type": "text"
      },
      "source": [
        "<a href=\"https://colab.research.google.com/github/Julia-Vanyarina/Laboratornie4-7/blob/main/%D0%9B%D0%B0%D0%B1%D0%BE%D1%80%D0%B0%D1%82%D0%BE%D1%80%D0%BD%D0%B0%D1%8F_4.ipynb\" target=\"_parent\"><img src=\"https://colab.research.google.com/assets/colab-badge.svg\" alt=\"Open In Colab\"/></a>"
      ]
    },
    {
      "cell_type": "code",
      "execution_count": null,
      "metadata": {
        "colab": {
          "base_uri": "https://localhost:8080/"
        },
        "id": "lyzKK6Y6CinY",
        "outputId": "f31a62bb-d9bc-4418-863c-76b64d57ab64"
      },
      "outputs": [
        {
          "output_type": "stream",
          "name": "stdout",
          "text": [
            "Введите число: 4\n",
            "f =  (1, 21)\n"
          ]
        }
      ],
      "source": [
        "#task421\n",
        "x = int(input(\"Введите число: \"))\n",
        "\n",
        "if x >= 0:\n",
        "    f = x**0,5+x**2\n",
        "else:\n",
        "    f = 1 / x\n",
        "\n",
        "print(\"f = \", f)"
      ]
    },
    {
      "cell_type": "code",
      "source": [
        "#task422\n",
        "a=float(input('Введите число: '))\n",
        "'''создание первого числа'''\n",
        "\n",
        "min = a\n",
        "max = a\n",
        "'''присвоение значения первого числа максимальному и минимальному значению'''\n",
        "\n",
        "for i in range(1):\n",
        "    '''цикл для создания чисел и проверки их на максимальность или минимальность'''\n",
        "\n",
        "    a=float(input('Введите число: '))\n",
        "    '''создание нового числа'''\n",
        "\n",
        "    if a > max:\n",
        "        '''проверка на максимальность'''\n",
        "        max = a\n",
        "\n",
        "    if a < max and a < min:\n",
        "        '''проверка на минимальность'''\n",
        "        min = a\n",
        "\n",
        "print('\\n','min is: ',round(min,2),'\\n','max is: ',round(max,2))\n",
        "'''вывод миниального и максимального чисел'''"
      ],
      "metadata": {
        "colab": {
          "base_uri": "https://localhost:8080/",
          "height": 120
        },
        "id": "nGzWePkuIFUe",
        "outputId": "68237c25-b7f0-4e54-9041-64e4a8e31d5d"
      },
      "execution_count": null,
      "outputs": [
        {
          "output_type": "stream",
          "name": "stdout",
          "text": [
            "Введите число: 2\n",
            "Введите число: 3\n",
            "\n",
            " min is:  2.0 \n",
            " max is:  3.0\n"
          ]
        },
        {
          "output_type": "execute_result",
          "data": {
            "application/vnd.google.colaboratory.intrinsic+json": {
              "type": "string"
            },
            "text/plain": [
              "'вывод миниального и максимального чисел'"
            ]
          },
          "metadata": {},
          "execution_count": 2
        }
      ]
    },
    {
      "cell_type": "code",
      "source": [
        "#task423\n",
        "a  = int(input(\"Ширина форточки: \"))\n",
        "b = int(input(\"Высота форточки: \"))\n",
        "d = int(input(\"Диаметр головы: \"))\n",
        "if d + 2 >= a and d + 2 <= b:\n",
        "    print ('Да')\n",
        "else: print(\"Нет\")"
      ],
      "metadata": {
        "colab": {
          "base_uri": "https://localhost:8080/"
        },
        "id": "of-lSLMTIKsv",
        "outputId": "840333ce-d22e-4627-8ddd-336c05b9a3fe"
      },
      "execution_count": null,
      "outputs": [
        {
          "output_type": "stream",
          "name": "stdout",
          "text": [
            "Ширина форточки: 3\n",
            "Высота форточки: 7\n",
            "Диаметр головы: 9\n",
            "Нет\n"
          ]
        }
      ]
    },
    {
      "cell_type": "code",
      "source": [
        "#task424\n",
        "year_today = int(input(\"Введите текущий год: \"))\n",
        "month_today = int(input(\"Введите текущий месяц: \"))\n",
        "\n",
        "year = int(input(\"Введите год рождения: \"))\n",
        "month = int(input(\"Введите месяц рождения: \"))\n",
        "\n",
        "age = year_today - year\n",
        "if month_today < month:\n",
        "  age -= 1\n",
        "print(\"Число полных лет: \", age)"
      ],
      "metadata": {
        "colab": {
          "base_uri": "https://localhost:8080/"
        },
        "id": "FKwOpGGjITb1",
        "outputId": "31baab7a-3452-48df-f2f1-cb559a1561ef"
      },
      "execution_count": null,
      "outputs": [
        {
          "output_type": "stream",
          "name": "stdout",
          "text": [
            "Введите текущий год: 2021\n",
            "Введите текущий месяц: 12\n",
            "Введите год рождения: 2002\n",
            "Введите месяц рождения: 11\n",
            "Число полных лет:  19\n"
          ]
        }
      ]
    },
    {
      "cell_type": "code",
      "source": [
        "#task425\n",
        "x = int(input(\"x=\"))\n",
        "y = int(input(\"y=\"))\n",
        "if x>0 and y>0:\n",
        "    print('I')\n",
        "elif x<0 and y>0:\n",
        "    print('II')\n",
        "elif x<0 and y<0:\n",
        "    print('III')\n",
        "elif x>0 and y<0:\n",
        "    print('IV')"
      ],
      "metadata": {
        "colab": {
          "base_uri": "https://localhost:8080/"
        },
        "id": "DHFJ-mdkJbLz",
        "outputId": "5721c0f8-8a58-4d73-dbe0-6ca2b64c676d"
      },
      "execution_count": null,
      "outputs": [
        {
          "output_type": "stream",
          "name": "stdout",
          "text": [
            "x=2\n",
            "y=-9\n",
            "IV\n"
          ]
        }
      ]
    },
    {
      "cell_type": "code",
      "source": [
        "#task426\n",
        "print('Решаем уравнение a•x²+b•x+c=0')\n",
        "a = input('Введите значение a: ')\n",
        "b = input('Введите значение b: ')\n",
        "c = input('Введите значение c: ')\n",
        "a = float(a)\n",
        "b = float(b)\n",
        "c = float(c)\n",
        "discriminant = b**2 - 4*a*c\n",
        "print('Дискриминант = ' + str(discriminant))\n",
        "if discriminant < 0:\n",
        "    print('Корней нет')\n",
        "elif discriminant == 0:\n",
        "    x = -b / (2 * a)\n",
        "    print('x = ' + str(x))\n",
        "else:\n",
        "    x1 = (-b + discriminant ** 0.5) / (2 * a)\n",
        "    x2 = (-b - discriminant ** 0.5) / (2 * a)\n",
        "    print('x₁ = ' + str(x1))\n",
        "    print('x₂ = ' + str(x2))\n"
      ],
      "metadata": {
        "colab": {
          "base_uri": "https://localhost:8080/"
        },
        "id": "Oq66v-tNKEuZ",
        "outputId": "4d537b76-97a6-4de0-c7bb-c67414eb5c39"
      },
      "execution_count": null,
      "outputs": [
        {
          "output_type": "stream",
          "name": "stdout",
          "text": [
            "Решаем уравнение a•x²+b•x+c=0\n",
            "Введите значение a: 3\n",
            "Введите значение b: 4\n",
            "Введите значение c: 6\n",
            "Дискриминант = -56.0\n",
            "Корней нет\n"
          ]
        }
      ]
    },
    {
      "cell_type": "code",
      "source": [
        "#task427\n",
        "nums_sum = 0  \n",
        "nums_count = 0 \n",
        "\n",
        "x = int(input(\"Введите 1-е число: \"))\n",
        "i = 1\n",
        "while x != 0:\n",
        "    i += 1\n",
        "    nums_count += 1\n",
        "    nums_sum += x\n",
        "    x = int(input(\"Введите {} -е число: \".format(i)))\n",
        "     \n",
        "\n",
        "print(\"Сумма = \", nums_sum)\n",
        "print(\"Количество = \", nums_count)"
      ],
      "metadata": {
        "colab": {
          "base_uri": "https://localhost:8080/"
        },
        "id": "o31PzhVyKQrV",
        "outputId": "ccffa21d-3eae-4b16-ab79-53c03f875309"
      },
      "execution_count": null,
      "outputs": [
        {
          "output_type": "stream",
          "name": "stdout",
          "text": [
            "Введите 1-е число: 2\n",
            "Введите 2 -е число: 3\n",
            "Введите 3 -е число: 9\n",
            "Введите 4 -е число: 5\n",
            "Введите 5 -е число: 3\n",
            "Введите 6 -е число: 0\n",
            "Сумма =  22\n",
            "Количество =  5\n"
          ]
        }
      ]
    },
    {
      "cell_type": "code",
      "source": [
        "#task428\n",
        "n = int(input('n='))\n",
        "i = 0\n",
        "while i <= n:\n",
        "  print(i)\n",
        "  i = i + 5"
      ],
      "metadata": {
        "colab": {
          "base_uri": "https://localhost:8080/"
        },
        "id": "ED0HKibIKWh3",
        "outputId": "1bbd1018-42dd-4746-d33c-b6bb4b865a4c"
      },
      "execution_count": null,
      "outputs": [
        {
          "output_type": "stream",
          "name": "stdout",
          "text": [
            "n=3\n",
            "0\n"
          ]
        }
      ]
    },
    {
      "cell_type": "code",
      "source": [
        "#task429\n",
        "a = float(input(\"a = \"))\n",
        "n = 1\n",
        "x_sum = n\n",
        "while x_sum <= a:\n",
        "  n+= 1\n",
        "  x_sum += 1/n\n",
        "print(\"n = \", n)"
      ],
      "metadata": {
        "colab": {
          "base_uri": "https://localhost:8080/"
        },
        "id": "3xcwHtJBKfCo",
        "outputId": "66f5f0cf-ca92-4b98-b629-c8f8012a3f8d"
      },
      "execution_count": null,
      "outputs": [
        {
          "output_type": "stream",
          "name": "stdout",
          "text": [
            "a = 2\n",
            "n =  4\n"
          ]
        }
      ]
    },
    {
      "cell_type": "code",
      "source": [
        "#task4210\n",
        "n = int(input(\"n= \"))\n",
        "n_sum = 0\n",
        "n_count = 0\n",
        "\n",
        "while n != 0:\n",
        "    n_sum += n % 10\n",
        "    n_count += 1\n",
        "    n = n//10\n",
        "print(\"Сумма = \", n_sum)\n",
        "print(\"Количество = \", n_count) "
      ],
      "metadata": {
        "colab": {
          "base_uri": "https://localhost:8080/"
        },
        "id": "xOfeI4dULW6o",
        "outputId": "4bfba110-ad4e-407d-b54f-a7e0d4b73365"
      },
      "execution_count": null,
      "outputs": [
        {
          "output_type": "stream",
          "name": "stdout",
          "text": [
            "n= 345\n",
            "Сумма =  12\n",
            "Количество =  3\n"
          ]
        }
      ]
    },
    {
      "cell_type": "code",
      "source": [
        "#task4211\n",
        "start = int(input(\"start = \"))\n",
        "k = int(input(\"k = \"))\n",
        "s = int(input(\"s = \"))\n",
        "n_count = 0\n",
        "\n",
        "while n_count < 10:\n",
        "    if start % 10 == k and start % s == 0:\n",
        "        print(start, end=' ')\n",
        "        n_count += 1\n",
        "\n",
        "    start += 1"
      ],
      "metadata": {
        "colab": {
          "base_uri": "https://localhost:8080/"
        },
        "id": "XF22F_0RLiKh",
        "outputId": "5e30dd1a-4696-4671-b667-5ba6a1c4a360"
      },
      "execution_count": null,
      "outputs": [
        {
          "output_type": "stream",
          "name": "stdout",
          "text": [
            "start = 3\n",
            "k = 6\n",
            "s = 4\n",
            "16 36 56 76 96 116 136 156 176 196 "
          ]
        }
      ]
    },
    {
      "cell_type": "code",
      "source": [
        "#task4212\n",
        "a = int(input(\"a = \"))\n",
        "b = int(input(\"b = \"))\n",
        "\n",
        "if a < b:\n",
        "    min = a \n",
        "    max = b\n",
        "else: \n",
        "    min = b\n",
        "    max = a \n",
        "\n",
        "\n",
        "for i in range(min, max +1):\n",
        "    print(i, end=\" \") \n",
        "print()\n",
        "for i in range(max, min -1, -1):\n",
        "    print(i) "
      ],
      "metadata": {
        "colab": {
          "base_uri": "https://localhost:8080/"
        },
        "id": "1TatD_NELvs6",
        "outputId": "862ebea4-c5de-4ca7-9c57-98f060b0f408"
      },
      "execution_count": null,
      "outputs": [
        {
          "output_type": "stream",
          "name": "stdout",
          "text": [
            "a = 2\n",
            "b = 3\n",
            "2 3 \n",
            "3\n",
            "2\n"
          ]
        }
      ]
    },
    {
      "cell_type": "code",
      "source": [
        "#task4213\n",
        "a = int(input())\n",
        "b = int(input())\n",
        "c = int(input())\n",
        "print(a,'+',b,'+',c,'=',a+b+c)\n",
        "print(a,'*',b,'*',c,'=',a*b*c)\n",
        "z = (a+b+c)/3\n",
        "z = round(z,3)\n",
        "print('(',a,'+',b,'+',c,')/3=',z)"
      ],
      "metadata": {
        "colab": {
          "base_uri": "https://localhost:8080/"
        },
        "id": "a2Ssuw7VL-Q5",
        "outputId": "f50e51e5-e704-4e65-998f-000b896f905b"
      },
      "execution_count": null,
      "outputs": [
        {
          "output_type": "stream",
          "name": "stdout",
          "text": [
            "2\n",
            "3\n",
            "4\n",
            "2 + 3 + 4 = 9\n",
            "2 * 3 * 4 = 24\n",
            "( 2 + 3 + 4 )/3= 3.0\n"
          ]
        }
      ]
    },
    {
      "cell_type": "code",
      "source": [
        "#task4214\n",
        "s = float(input(\"Пробег за 1-й день (км.) = \"))\n",
        "p = int(input(\"На сколько увеличивает пробег (%) = \"))\n",
        "\n",
        "total = s\n",
        "\n",
        "for day in range(2,11):\n",
        "    s = s + s*p/100\n",
        "    total += s\n",
        "    print(\"Пробег за {}-й день: {:.1f} км.\".format(day, s))\n",
        "\n",
        "print(\"Суммарный пробег: {:.1f} км.\".format(total))"
      ],
      "metadata": {
        "colab": {
          "base_uri": "https://localhost:8080/"
        },
        "id": "BBOS4losMDrs",
        "outputId": "f106f49d-5431-4c8a-b4c7-c2883a63ef92"
      },
      "execution_count": null,
      "outputs": [
        {
          "output_type": "stream",
          "name": "stdout",
          "text": [
            "Пробег за 1-й день (км.) = 23\n",
            "На сколько увеличивает пробег (%) = 25\n",
            "Пробег за 2-й день: 28.8 км.\n",
            "Пробег за 3-й день: 35.9 км.\n",
            "Пробег за 4-й день: 44.9 км.\n",
            "Пробег за 5-й день: 56.2 км.\n",
            "Пробег за 6-й день: 70.2 км.\n",
            "Пробег за 7-й день: 87.7 км.\n",
            "Пробег за 8-й день: 109.7 км.\n",
            "Пробег за 9-й день: 137.1 км.\n",
            "Пробег за 10-й день: 171.4 км.\n",
            "Суммарный пробег: 764.8 км.\n"
          ]
        }
      ]
    },
    {
      "cell_type": "code",
      "source": [
        "#task4215\n",
        "p = int(input('Грузоподъемность грузовика (кг.) = '))\n",
        "n = int(input('Количество предметов = '))\n",
        "\n",
        "total = 0\n",
        "for i in range(1, n+1):\n",
        "    m = int(input('Масса {}-го предмета (кг.) = '.format(i)))\n",
        "    total += m\n",
        "\n",
        "print('Да' if total <= p else 'Нет')"
      ],
      "metadata": {
        "colab": {
          "base_uri": "https://localhost:8080/"
        },
        "id": "-BqNGwdGMPOr",
        "outputId": "f32baa2c-e110-4f4a-8a0b-bcbb333bfa13"
      },
      "execution_count": null,
      "outputs": [
        {
          "output_type": "stream",
          "name": "stdout",
          "text": [
            "Грузоподъемность грузовика (кг.) = 2300\n",
            "Количество предметов = 4\n",
            "Масса 1-го предмета (кг.) = 245\n",
            "Масса 2-го предмета (кг.) = 900\n",
            "Масса 3-го предмета (кг.) = 789\n",
            "Масса 4-го предмета (кг.) = 200\n",
            "Да\n"
          ]
        }
      ]
    },
    {
      "cell_type": "code",
      "source": [
        "#task4216\n",
        "n = int(input('Количество районов = '))\n",
        "\n",
        "total = 0\n",
        "for i in range(1, n + 1):\n",
        "    s = int(input('Площадь {}-го района (га) ='.format(i)))\n",
        "    y = int(input('Урожайность в {}-м районе (ц/га.) ='.format(i)))\n",
        "    total += s*y\n",
        "\n",
        "print('Собрано пшеницы: {:.1f}'.format(total))"
      ],
      "metadata": {
        "colab": {
          "base_uri": "https://localhost:8080/"
        },
        "id": "K6e97deiMltB",
        "outputId": "747442c5-5858-487d-d149-57e71029f075"
      },
      "execution_count": null,
      "outputs": [
        {
          "output_type": "stream",
          "name": "stdout",
          "text": [
            "Количество районов = 3\n",
            "Площадь 1-го района (га) =25\n",
            "Урожайность в 1-м районе (ц/га.) =45\n",
            "Площадь 2-го района (га) =78\n",
            "Урожайность в 2-м районе (ц/га.) =4567\n",
            "Площадь 3-го района (га) =200\n",
            "Урожайность в 3-м районе (ц/га.) =34500\n",
            "Собрано пшеницы: 7257351.0\n"
          ]
        }
      ]
    },
    {
      "cell_type": "code",
      "source": [
        "#task4217\n",
        "nums_sum = 0  # сумма\n",
        "nums_count = 0  # количество\n",
        "\n",
        "x = int(input('Введите 1-е число: '))\n",
        "\n",
        "while True:\n",
        "    if x != 0:\n",
        "        nums_sum += x\n",
        "        nums_count += 1\n",
        "        x = int(input('Введите {}-е число: '.format(nums_count + 1))) \n",
        "    else:     \n",
        "        break\n",
        "\n",
        "print('Сумма = ', nums_sum)\n",
        "print('Количество = ', nums_count)\n"
      ],
      "metadata": {
        "colab": {
          "base_uri": "https://localhost:8080/"
        },
        "id": "QDiIR9mDMzfm",
        "outputId": "ef612762-6192-44b6-e2d4-5a2191e2ff4c"
      },
      "execution_count": null,
      "outputs": [
        {
          "output_type": "stream",
          "name": "stdout",
          "text": [
            "Введите 1-е число: 68\n",
            "Введите 2-е число: 54\n",
            "Введите 3-е число: 33\n",
            "Введите 4-е число: 21\n",
            "Введите 5-е число: 12\n",
            "Введите 6-е число: 0\n",
            "Сумма =  188\n",
            "Количество =  5\n"
          ]
        }
      ]
    },
    {
      "cell_type": "code",
      "source": [
        "#task4218\n",
        "sentence = input('Введите предложение: ')\n",
        "\n",
        "count_gl = 0  # Кол-во гласных\n",
        "count_sogl = 0  # Кол-во согласных\n",
        "for i in sentence:\n",
        "    if i == ' ':\n",
        "      continue\n",
        "    if i in 'аоуэыяёюеи':\n",
        "      count_gl += 1\n",
        "    else:\n",
        "      count_sogl += 1\n",
        "\n",
        "print('Кол-во букв в предложении: гласных - {}, согласных - {}'.format(count_gl, count_sogl))    "
      ],
      "metadata": {
        "colab": {
          "base_uri": "https://localhost:8080/"
        },
        "id": "4qpVH9Y8NH6G",
        "outputId": "73333e8d-87a4-4432-e0c6-07d11ff706f4"
      },
      "execution_count": null,
      "outputs": [
        {
          "output_type": "stream",
          "name": "stdout",
          "text": [
            "Введите предложение: Сегодня на улице идёт дождь\n",
            "Кол-во букв в предложении: гласных - 10, согласных - 13\n"
          ]
        }
      ]
    },
    {
      "cell_type": "code",
      "source": [
        "#task4219\n",
        "a = int(input(\"a = \"))\n",
        "b = int(input(\"b = \"))\n",
        "c = int(input(\"c = \"))\n",
        "\n",
        "i1=b\n",
        "for i in range(a-b+1):\n",
        "  if i1%c==0:\n",
        "    print(i1, end=' ')\n",
        "  i1+=1"
      ],
      "metadata": {
        "id": "igW4-CeINT92",
        "colab": {
          "base_uri": "https://localhost:8080/"
        },
        "outputId": "8d0eb905-61d5-47d4-b90d-59b83750611a"
      },
      "execution_count": 37,
      "outputs": [
        {
          "name": "stdout",
          "output_type": "stream",
          "text": [
            "a = 0\n",
            "b = 1\n",
            "c = 1\n"
          ]
        }
      ]
    },
    {
      "cell_type": "code",
      "source": [
        "#task4220\n",
        "n = int(input(\"n = \"))\n",
        "for i in range(100, 1000):\n",
        "  a=i//100\n",
        "  b=(i//10)%10\n",
        "  c=i%10\n",
        "  if (a+b+c)==n:\n",
        "   print(i, end=' ')"
      ],
      "metadata": {
        "colab": {
          "base_uri": "https://localhost:8080/"
        },
        "id": "D1vDhXYiN9pZ",
        "outputId": "813919b5-8c4b-4a13-ce3e-64631047d107"
      },
      "execution_count": 38,
      "outputs": [
        {
          "output_type": "stream",
          "name": "stdout",
          "text": [
            "n = 3\n",
            "102 111 120 201 210 300 "
          ]
        }
      ]
    },
    {
      "cell_type": "code",
      "source": [
        "#task4221\n",
        "n = int(input(\"Количество учеников в классе: \"))\n",
        "r_sr_m = 0.0\n",
        "r_sr_d = 0.0\n",
        "lol=1 # нужно для того, чтобы учесть рост всех учеников в классе\n",
        "mama=0 # количество учеников мальчиков\n",
        "while lol <=n: # пока количество учеников не будет равно переменной lol продолжать цикл, чтобы учесть рост всех учеников\n",
        "    a = int(input(\"Рост \"+ str(lol) + \"-го ученика = \")) # str - в строчку записать\n",
        "    lol+=1\n",
        "    if a <0 : # если рост меньше 0, то записать в рост мальчиков\n",
        "        mama+=1\n",
        "        r_sr_m -= a # отнять от роста мальчиков \n",
        "    else: # если рост больше 0, то записать в рост девочек\n",
        "        r_sr_d += a # прибавить к росту девочек\n",
        "r_m= r_sr_m /(mama)\n",
        "r_d = r_sr_d / (n - mama)\n",
        "print('Cредний рост мальчиков: {:.1f}\\nCредний рост девочек: {:.1f}'.format(r_m, r_d))"
      ],
      "metadata": {
        "colab": {
          "base_uri": "https://localhost:8080/"
        },
        "id": "nO68aaF_OtD-",
        "outputId": "6c24159c-b5a2-405c-907c-a5bca3073e52"
      },
      "execution_count": 43,
      "outputs": [
        {
          "output_type": "stream",
          "name": "stdout",
          "text": [
            "Количество учеников в классе: 6\n",
            "Рост 1-го ученика = -167\n",
            "Рост 2-го ученика = 140\n",
            "Рост 3-го ученика = -189\n",
            "Рост 4-го ученика = 169\n",
            "Рост 5-го ученика = 188\n",
            "Рост 6-го ученика = -200\n",
            "Cредний рост мальчиков: 185.3\n",
            "Cредний рост девочек: 165.7\n"
          ]
        }
      ]
    }
  ]
}