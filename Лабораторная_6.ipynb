{
  "nbformat": 4,
  "nbformat_minor": 0,
  "metadata": {
    "colab": {
      "name": "Лабораторная 6",
      "provenance": [],
      "authorship_tag": "ABX9TyNn5Df2/LKYCXGnIWUowPlF",
      "include_colab_link": true
    },
    "kernelspec": {
      "name": "python3",
      "display_name": "Python 3"
    },
    "language_info": {
      "name": "python"
    }
  },
  "cells": [
    {
      "cell_type": "markdown",
      "metadata": {
        "id": "view-in-github",
        "colab_type": "text"
      },
      "source": [
        "<a href=\"https://colab.research.google.com/github/Julia-Vanyarina/Laboratornie4-7/blob/main/%D0%9B%D0%B0%D0%B1%D0%BE%D1%80%D0%B0%D1%82%D0%BE%D1%80%D0%BD%D0%B0%D1%8F_6.ipynb\" target=\"_parent\"><img src=\"https://colab.research.google.com/assets/colab-badge.svg\" alt=\"Open In Colab\"/></a>"
      ]
    },
    {
      "cell_type": "code",
      "execution_count": 1,
      "metadata": {
        "colab": {
          "base_uri": "https://localhost:8080/"
        },
        "id": "jjSHIXCMg-_y",
        "outputId": "373891ae-3b68-49d6-fbd8-d4975f1d42fe"
      },
      "outputs": [
        {
          "output_type": "execute_result",
          "data": {
            "text/plain": [
              "[-2, -2, -2, 1, 1, 2, 2, 2, 2, 2, 3, 3, 3, 4, 4, 5, 65]"
            ]
          },
          "metadata": {},
          "execution_count": 1
        }
      ],
      "source": [
        "#task621\n",
        "def foo(a):\n",
        "    \"\"\"Алгоритм: Располагает элементы списка по возрастанию\n",
        "\n",
        "    Сложность: 2*N*O(len(a)).\n",
        "    \"\"\"\n",
        "    for i in range(len(a), 0, -1): # O(len(a))\n",
        "        for j in range(1, i): # O(N)\n",
        "            if a[j-1] > a[j]:\n",
        "                a[j-1], a[j] = a[j], a[j-1]\n",
        "    return a # O(1)\n",
        "\n",
        "a = [1, 2, 3, 4, 2, 1, 3, 4, 3, 5, -2, -2, 2, -2, 65, 2, 2]\n",
        "foo(a)\n"
      ]
    },
    {
      "cell_type": "code",
      "source": [
        "#task622\n",
        "def foo(i):\n",
        "    \"\"\"Алгоритм: Находит количество шагов, необходимых для преобразования числа в строку\n",
        "\n",
        "    Сложность: O(N)\n",
        "    \"\"\"\n",
        "    digits = \"0123456789\"\n",
        "    if i == 0:  # O(1)\n",
        "        return \"0\"\n",
        "    result = \"\"\n",
        "    while i > 0: # O(N)\n",
        "        result = digits[i%10] + result # O(N) - наихудший вариант\n",
        "        i = i // 10\n",
        "    return result # O(1)\n",
        "\n",
        "foo(891)\n",
        "\n"
      ],
      "metadata": {
        "colab": {
          "base_uri": "https://localhost:8080/",
          "height": 35
        },
        "id": "TRtMCmmdj-Co",
        "outputId": "8702b4c2-77da-4c19-f3f2-a8284bf1b649"
      },
      "execution_count": 7,
      "outputs": [
        {
          "output_type": "execute_result",
          "data": {
            "application/vnd.google.colaboratory.intrinsic+json": {
              "type": "string"
            },
            "text/plain": [
              "'891'"
            ]
          },
          "metadata": {},
          "execution_count": 7
        }
      ]
    },
    {
      "cell_type": "code",
      "source": [
        "#task623\n",
        "def foo(s):\n",
        "    \"\"\"Алгоритм: Считает сумму всех цифр в указанной строке\n",
        "\n",
        "    Сложность: O(N).\n",
        "    \"\"\"\n",
        "    val = 0\n",
        "    for c in s: # O(N)\n",
        "        if c.isdigit(): # O(1) - наихудший вариант\n",
        "            val += int(c)\n",
        "    return val # O(1)\n",
        "foo(\"Helloworld1234\")"
      ],
      "metadata": {
        "colab": {
          "base_uri": "https://localhost:8080/"
        },
        "id": "5IC4vJ6TkFUp",
        "outputId": "d6d0b913-9542-4f66-cdb2-17c94074eaa6"
      },
      "execution_count": 8,
      "outputs": [
        {
          "output_type": "execute_result",
          "data": {
            "text/plain": [
              "10"
            ]
          },
          "metadata": {},
          "execution_count": 8
        }
      ]
    },
    {
      "cell_type": "code",
      "source": [
        "#task624\n",
        "def foo(n):\n",
        "    \"\"\"Алгоритм: Дает список простых чисел до n-ого числа\n",
        "\n",
        "    Сложность: O(len(n+1)+O(N)).\n",
        "    \"\"\"\n",
        "    res = []\n",
        "    for i in range(1, n + 1): # O(N)\n",
        "        divisors = 0\n",
        "        j = 2\n",
        "        while j < i and divisors == 0: # O(1)\n",
        "            if i % j == 0: # O(1)\n",
        "                divisors += 1\n",
        "            j += 1\n",
        "\n",
        "        if divisors == 0: # O(1)- наихудший вариант\n",
        "            res.append(i)\n",
        "\n",
        "    return res # O(1)\n",
        "foo(12)"
      ],
      "metadata": {
        "colab": {
          "base_uri": "https://localhost:8080/"
        },
        "id": "LvRS1temkL6B",
        "outputId": "83c073d6-b844-4ee7-c6bf-a6d2232aba06"
      },
      "execution_count": 9,
      "outputs": [
        {
          "output_type": "execute_result",
          "data": {
            "text/plain": [
              "[1, 2, 3, 5, 7, 11]"
            ]
          },
          "metadata": {},
          "execution_count": 9
        }
      ]
    },
    {
      "cell_type": "code",
      "source": [
        "#task625\n",
        "def foo(nums):\n",
        "    \"\"\"Алгоритм: Есть ли в приведенном списке четное число\n",
        "\n",
        "    Сложность: O(N).\n",
        "    \"\"\"\n",
        "    for x in nums: # O(N)\n",
        "        if x % 2 == 0: # O(1)\n",
        "            return True # O(1) - наихудший вариант\n",
        "    else:\n",
        "        return False # O(1)\n",
        "foo([15,30,54,67,89])"
      ],
      "metadata": {
        "colab": {
          "base_uri": "https://localhost:8080/"
        },
        "id": "69Y7Z70Ckcjf",
        "outputId": "6cc47664-0cb6-485f-a711-a1bb63a12513"
      },
      "execution_count": 10,
      "outputs": [
        {
          "output_type": "execute_result",
          "data": {
            "text/plain": [
              "True"
            ]
          },
          "metadata": {},
          "execution_count": 10
        }
      ]
    },
    {
      "cell_type": "code",
      "source": [
        "#task626\n",
        "def foo(nums):\n",
        "    \"\"\"Алгоритм: Первый элемент в списке суммируется с последним элементом списка в квадрате\n",
        "\n",
        "    Сложность: O(1).\n",
        "    \"\"\"\n",
        "    return (nums[0] + nums[-1] ** 2) # O(1)\n",
        "foo([25,543,987,1234])"
      ],
      "metadata": {
        "colab": {
          "base_uri": "https://localhost:8080/"
        },
        "id": "MxxAu0D3kjA9",
        "outputId": "b4e79986-370c-4ad6-f935-fcd5ab8c7914"
      },
      "execution_count": 11,
      "outputs": [
        {
          "output_type": "execute_result",
          "data": {
            "text/plain": [
              "1522781"
            ]
          },
          "metadata": {},
          "execution_count": 11
        }
      ]
    }
  ]
}